{
 "cells": [
  {
   "cell_type": "code",
   "execution_count": 1,
   "metadata": {},
   "outputs": [],
   "source": [
    "from tensorflow.keras.models import Sequential\n",
    "from tensorflow.keras.layers import Dense\n",
    "from tensorflow.keras.layers import Convolution2D\n",
    "from tensorflow.keras.layers import MaxPooling2D\n",
    "from tensorflow.keras.layers import Flatten"
   ]
  },
  {
   "cell_type": "code",
   "execution_count": 2,
   "metadata": {},
   "outputs": [
    {
     "name": "stderr",
     "output_type": "stream",
     "text": [
      "Using TensorFlow backend.\n"
     ]
    }
   ],
   "source": [
    "from keras.preprocessing.image import ImageDataGenerator\n",
    "train_datagen = ImageDataGenerator(rescale = 1./255,shear_range = 0.2,zoom_range = 0.2,horizontal_flip = True)\n",
    "test_datagen = ImageDataGenerator(rescale = 1./255)"
   ]
  },
  {
   "cell_type": "code",
   "execution_count": 3,
   "metadata": {},
   "outputs": [
    {
     "name": "stdout",
     "output_type": "stream",
     "text": [
      "Found 100 images belonging to 5 classes.\n",
      "Found 50 images belonging to 5 classes.\n"
     ]
    }
   ],
   "source": [
    "x_train = train_datagen.flow_from_directory(r\"G:\\externship\\things data\\trainset\",target_size = (64,64),batch_size = 32,class_mode = \"categorical\")\n",
    "x_test = test_datagen.flow_from_directory(r\"G:\\externship\\things data\\testset\",target_size = (64,64),batch_size = 32,class_mode = \"categorical\")"
   ]
  },
  {
   "cell_type": "code",
   "execution_count": 4,
   "metadata": {},
   "outputs": [],
   "source": [
    "model = Sequential()"
   ]
  },
  {
   "cell_type": "code",
   "execution_count": 5,
   "metadata": {},
   "outputs": [
    {
     "name": "stdout",
     "output_type": "stream",
     "text": [
      "WARNING:tensorflow:From C:\\Users\\ratna\\Anaconda3\\lib\\site-packages\\tensorflow\\python\\ops\\init_ops.py:1251: calling VarianceScaling.__init__ (from tensorflow.python.ops.init_ops) with dtype is deprecated and will be removed in a future version.\n",
      "Instructions for updating:\n",
      "Call initializer instance with the dtype argument instead of passing it to the constructor\n"
     ]
    }
   ],
   "source": [
    "model.add(Convolution2D(32,(3,3),input_shape = (64,64,3),activation = \"relu\"))"
   ]
  },
  {
   "cell_type": "code",
   "execution_count": 6,
   "metadata": {},
   "outputs": [],
   "source": [
    "model.add(MaxPooling2D(2,2))"
   ]
  },
  {
   "cell_type": "code",
   "execution_count": 7,
   "metadata": {},
   "outputs": [],
   "source": [
    "model.add(Flatten())"
   ]
  },
  {
   "cell_type": "code",
   "execution_count": 8,
   "metadata": {},
   "outputs": [
    {
     "name": "stdout",
     "output_type": "stream",
     "text": [
      "WARNING:tensorflow:From C:\\Users\\ratna\\Anaconda3\\lib\\site-packages\\tensorflow\\python\\keras\\initializers.py:119: calling RandomUniform.__init__ (from tensorflow.python.ops.init_ops) with dtype is deprecated and will be removed in a future version.\n",
      "Instructions for updating:\n",
      "Call initializer instance with the dtype argument instead of passing it to the constructor\n"
     ]
    }
   ],
   "source": [
    "model.add(Dense(units = 512,activation = \"relu\",kernel_initializer = \"random_uniform\"))"
   ]
  },
  {
   "cell_type": "code",
   "execution_count": 9,
   "metadata": {},
   "outputs": [],
   "source": [
    "model.add(Dense(units = 5,activation = \"softmax\",kernel_initializer = \"random_uniform\"))"
   ]
  },
  {
   "cell_type": "code",
   "execution_count": 10,
   "metadata": {},
   "outputs": [],
   "source": [
    "model.compile(\"sgd\",loss = \"categorical_crossentropy\",metrics = [\"accuracy\"])"
   ]
  },
  {
   "cell_type": "code",
   "execution_count": 11,
   "metadata": {},
   "outputs": [
    {
     "name": "stdout",
     "output_type": "stream",
     "text": [
      "Epoch 1/30\n",
      "47/47 [==============================] - 10s 207ms/step - loss: 1.5674 - acc: 0.3022 - val_loss: 1.5403 - val_acc: 0.2800\n",
      "Epoch 2/30\n",
      "47/47 [==============================] - 8s 175ms/step - loss: 1.3383 - acc: 0.4863 - val_loss: 1.3250 - val_acc: 0.4800\n",
      "Epoch 3/30\n",
      "47/47 [==============================] - 11s 226ms/step - loss: 1.1703 - acc: 0.5769 - val_loss: 1.3022 - val_acc: 0.5200\n",
      "Epoch 4/30\n",
      "47/47 [==============================] - 8s 178ms/step - loss: 0.9871 - acc: 0.6567 - val_loss: 1.1439 - val_acc: 0.5600\n",
      "Epoch 5/30\n",
      "47/47 [==============================] - 10s 220ms/step - loss: 0.8875 - acc: 0.6781 - val_loss: 1.1628 - val_acc: 0.5600\n",
      "Epoch 6/30\n",
      "47/47 [==============================] - 9s 185ms/step - loss: 0.8338 - acc: 0.7226 - val_loss: 2.4658 - val_acc: 0.3200\n",
      "Epoch 7/30\n",
      "47/47 [==============================] - 11s 230ms/step - loss: 0.7718 - acc: 0.7551 - val_loss: 2.6050 - val_acc: 0.2200\n",
      "Epoch 8/30\n",
      "47/47 [==============================] - 10s 220ms/step - loss: 0.6422 - acc: 0.7500 - val_loss: 0.9975 - val_acc: 0.6800\n",
      "Epoch 9/30\n",
      "47/47 [==============================] - 8s 180ms/step - loss: 0.6170 - acc: 0.7817 - val_loss: 0.9944 - val_acc: 0.6600\n",
      "Epoch 10/30\n",
      "47/47 [==============================] - 11s 229ms/step - loss: 0.4573 - acc: 0.8348 - val_loss: 1.9996 - val_acc: 0.3200\n",
      "Epoch 11/30\n",
      "47/47 [==============================] - 8s 178ms/step - loss: 0.4187 - acc: 0.8493 - val_loss: 1.0990 - val_acc: 0.6200\n",
      "Epoch 12/30\n",
      "47/47 [==============================] - 10s 218ms/step - loss: 0.3538 - acc: 0.8905 - val_loss: 0.9921 - val_acc: 0.6600\n",
      "Epoch 13/30\n",
      "47/47 [==============================] - 9s 187ms/step - loss: 0.3342 - acc: 0.8938 - val_loss: 1.1107 - val_acc: 0.5600\n",
      "Epoch 14/30\n",
      "47/47 [==============================] - 10s 221ms/step - loss: 0.2887 - acc: 0.9170 - val_loss: 0.9716 - val_acc: 0.6400\n",
      "Epoch 15/30\n",
      "47/47 [==============================] - 9s 191ms/step - loss: 0.1987 - acc: 0.9557 - val_loss: 1.0569 - val_acc: 0.6400\n",
      "Epoch 16/30\n",
      "47/47 [==============================] - 11s 228ms/step - loss: 0.1656 - acc: 0.9675 - val_loss: 1.3105 - val_acc: 0.6200\n",
      "Epoch 17/30\n",
      "47/47 [==============================] - 8s 178ms/step - loss: 0.1378 - acc: 0.9700 - val_loss: 1.4558 - val_acc: 0.5800\n",
      "Epoch 18/30\n",
      "47/47 [==============================] - 11s 243ms/step - loss: 0.1529 - acc: 0.9565 - val_loss: 1.1595 - val_acc: 0.6400\n",
      "Epoch 19/30\n",
      "47/47 [==============================] - 11s 227ms/step - loss: 0.3299 - acc: 0.9202 - val_loss: 1.0682 - val_acc: 0.6200\n",
      "Epoch 20/30\n",
      "47/47 [==============================] - 10s 220ms/step - loss: 0.1597 - acc: 0.9791 - val_loss: 1.0747 - val_acc: 0.6600\n",
      "Epoch 21/30\n",
      "47/47 [==============================] - 9s 199ms/step - loss: 0.0745 - acc: 0.9906 - val_loss: 1.1023 - val_acc: 0.6600\n",
      "Epoch 22/30\n",
      "47/47 [==============================] - 11s 229ms/step - loss: 0.1995 - acc: 0.9572 - val_loss: 1.0684 - val_acc: 0.6800\n",
      "Epoch 23/30\n",
      "47/47 [==============================] - 10s 222ms/step - loss: 0.0755 - acc: 0.9916 - val_loss: 1.2179 - val_acc: 0.6600\n",
      "Epoch 24/30\n",
      "47/47 [==============================] - 9s 188ms/step - loss: 0.1283 - acc: 0.9726 - val_loss: 1.1738 - val_acc: 0.6600\n",
      "Epoch 25/30\n",
      "47/47 [==============================] - 11s 227ms/step - loss: 0.0649 - acc: 0.9967 - val_loss: 1.1250 - val_acc: 0.6600\n",
      "Epoch 26/30\n",
      "47/47 [==============================] - 11s 235ms/step - loss: 0.0341 - acc: 1.0000 - val_loss: 1.2132 - val_acc: 0.7000\n",
      "Epoch 27/30\n",
      "47/47 [==============================] - 11s 236ms/step - loss: 0.0352 - acc: 0.9975 - val_loss: 1.2889 - val_acc: 0.6400\n",
      "Epoch 28/30\n",
      "47/47 [==============================] - 9s 193ms/step - loss: 0.0362 - acc: 0.9966 - val_loss: 1.2144 - val_acc: 0.6600\n",
      "Epoch 29/30\n",
      "47/47 [==============================] - 9s 191ms/step - loss: 0.0236 - acc: 1.0000 - val_loss: 1.2369 - val_acc: 0.6600\n",
      "Epoch 30/30\n",
      "47/47 [==============================] - 11s 231ms/step - loss: 0.1140 - acc: 0.9709 - val_loss: 1.2171 - val_acc: 0.6600\n"
     ]
    },
    {
     "data": {
      "text/plain": [
       "<tensorflow.python.keras.callbacks.History at 0x21c931112e8>"
      ]
     },
     "execution_count": 11,
     "metadata": {},
     "output_type": "execute_result"
    }
   ],
   "source": [
    "model.fit_generator(x_train,steps_per_epoch =47,epochs = 30,validation_data = x_test,validation_steps = 20)"
   ]
  },
  {
   "cell_type": "code",
   "execution_count": 12,
   "metadata": {},
   "outputs": [],
   "source": [
    "model.save(\"things.h5\")"
   ]
  },
  {
   "cell_type": "code",
   "execution_count": null,
   "metadata": {},
   "outputs": [],
   "source": []
  }
 ],
 "metadata": {
  "kernelspec": {
   "display_name": "Python 3",
   "language": "python",
   "name": "python3"
  },
  "language_info": {
   "codemirror_mode": {
    "name": "ipython",
    "version": 3
   },
   "file_extension": ".py",
   "mimetype": "text/x-python",
   "name": "python",
   "nbconvert_exporter": "python",
   "pygments_lexer": "ipython3",
   "version": "3.7.3"
  }
 },
 "nbformat": 4,
 "nbformat_minor": 2
}
